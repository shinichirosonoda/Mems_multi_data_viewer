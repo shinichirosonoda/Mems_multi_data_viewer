{
 "cells": [
  {
   "cell_type": "code",
   "execution_count": 1,
   "id": "13d94be7",
   "metadata": {},
   "outputs": [],
   "source": [
    "import cv2\n",
    "import matplotlib.pyplot as plt\n",
    "import numpy as np\n",
    "import pandas as pd\n",
    "import datetime"
   ]
  },
  {
   "cell_type": "code",
   "execution_count": 2,
   "id": "37c2df9a",
   "metadata": {},
   "outputs": [
    {
     "name": "stdout",
     "output_type": "stream",
     "text": [
      "2-11-01-17-34-00_3p15\n"
     ]
    },
    {
     "data": {
      "text/html": [
       "<div>\n",
       "<style scoped>\n",
       "    .dataframe tbody tr th:only-of-type {\n",
       "        vertical-align: middle;\n",
       "    }\n",
       "\n",
       "    .dataframe tbody tr th {\n",
       "        vertical-align: top;\n",
       "    }\n",
       "\n",
       "    .dataframe thead th {\n",
       "        text-align: right;\n",
       "    }\n",
       "</style>\n",
       "<table border=\"1\" class=\"dataframe\">\n",
       "  <thead>\n",
       "    <tr style=\"text-align: right;\">\n",
       "      <th></th>\n",
       "      <th>Time</th>\n",
       "      <th>humidity</th>\n",
       "      <th>temperature</th>\n",
       "      <th>vpp_sum1</th>\n",
       "      <th>vpp_sum2</th>\n",
       "      <th>delay_slow</th>\n",
       "      <th>delay_fast</th>\n",
       "      <th>Ch1_word</th>\n",
       "      <th>Ch2_word</th>\n",
       "      <th>Ch1_Amp</th>\n",
       "      <th>Ch2_Amp</th>\n",
       "    </tr>\n",
       "  </thead>\n",
       "  <tbody>\n",
       "    <tr>\n",
       "      <th>0</th>\n",
       "      <td>2022/11/01 15:57:37</td>\n",
       "      <td>33.003235</td>\n",
       "      <td>27.183228</td>\n",
       "      <td>468377.0</td>\n",
       "      <td>1203142.0</td>\n",
       "      <td>3137.732676</td>\n",
       "      <td>1820.036822</td>\n",
       "      <td>3.249450e+15</td>\n",
       "      <td>1.620043e+15</td>\n",
       "      <td>13.6</td>\n",
       "      <td>14.6</td>\n",
       "    </tr>\n",
       "    <tr>\n",
       "      <th>1</th>\n",
       "      <td>2022/11/01 15:57:39</td>\n",
       "      <td>32.972717</td>\n",
       "      <td>27.132492</td>\n",
       "      <td>475821.0</td>\n",
       "      <td>1191717.0</td>\n",
       "      <td>3167.555062</td>\n",
       "      <td>1821.631163</td>\n",
       "      <td>3.249450e+15</td>\n",
       "      <td>1.620043e+15</td>\n",
       "      <td>13.6</td>\n",
       "      <td>14.6</td>\n",
       "    </tr>\n",
       "    <tr>\n",
       "      <th>2</th>\n",
       "      <td>2022/11/01 15:57:43</td>\n",
       "      <td>32.945251</td>\n",
       "      <td>27.140503</td>\n",
       "      <td>475741.0</td>\n",
       "      <td>1190631.0</td>\n",
       "      <td>3165.545262</td>\n",
       "      <td>1822.735223</td>\n",
       "      <td>3.249449e+15</td>\n",
       "      <td>1.620042e+15</td>\n",
       "      <td>13.6</td>\n",
       "      <td>14.6</td>\n",
       "    </tr>\n",
       "    <tr>\n",
       "      <th>3</th>\n",
       "      <td>2022/11/01 15:57:45</td>\n",
       "      <td>32.949829</td>\n",
       "      <td>27.164536</td>\n",
       "      <td>475741.0</td>\n",
       "      <td>1190631.0</td>\n",
       "      <td>3152.925198</td>\n",
       "      <td>1821.511767</td>\n",
       "      <td>3.249449e+15</td>\n",
       "      <td>1.620042e+15</td>\n",
       "      <td>13.6</td>\n",
       "      <td>14.6</td>\n",
       "    </tr>\n",
       "    <tr>\n",
       "      <th>4</th>\n",
       "      <td>2022/11/01 15:57:47</td>\n",
       "      <td>32.981873</td>\n",
       "      <td>27.153854</td>\n",
       "      <td>473560.0</td>\n",
       "      <td>1202116.0</td>\n",
       "      <td>3145.335849</td>\n",
       "      <td>1818.227591</td>\n",
       "      <td>3.249449e+15</td>\n",
       "      <td>1.620042e+15</td>\n",
       "      <td>13.6</td>\n",
       "      <td>14.6</td>\n",
       "    </tr>\n",
       "  </tbody>\n",
       "</table>\n",
       "</div>"
      ],
      "text/plain": [
       "                  Time   humidity  temperature  vpp_sum1   vpp_sum2  \\\n",
       "0  2022/11/01 15:57:37  33.003235    27.183228  468377.0  1203142.0   \n",
       "1  2022/11/01 15:57:39  32.972717    27.132492  475821.0  1191717.0   \n",
       "2  2022/11/01 15:57:43  32.945251    27.140503  475741.0  1190631.0   \n",
       "3  2022/11/01 15:57:45  32.949829    27.164536  475741.0  1190631.0   \n",
       "4  2022/11/01 15:57:47  32.981873    27.153854  473560.0  1202116.0   \n",
       "\n",
       "    delay_slow   delay_fast      Ch1_word      Ch2_word  Ch1_Amp  Ch2_Amp  \n",
       "0  3137.732676  1820.036822  3.249450e+15  1.620043e+15     13.6     14.6  \n",
       "1  3167.555062  1821.631163  3.249450e+15  1.620043e+15     13.6     14.6  \n",
       "2  3165.545262  1822.735223  3.249449e+15  1.620042e+15     13.6     14.6  \n",
       "3  3152.925198  1821.511767  3.249449e+15  1.620042e+15     13.6     14.6  \n",
       "4  3145.335849  1818.227591  3.249449e+15  1.620042e+15     13.6     14.6  "
      ]
     },
     "execution_count": 2,
     "metadata": {},
     "output_type": "execute_result"
    }
   ],
   "source": [
    "# file\n",
    "file_drive = \"./data/drive/2022-11-01-17-34-00_3p15.csv\"\n",
    "df1 = pd.read_csv(file_drive, index_col=0)\n",
    "sample_name = file_drive[-25:-4]\n",
    "print(sample_name)\n",
    "df1.head()"
   ]
  },
  {
   "cell_type": "code",
   "execution_count": 3,
   "id": "5a275f97",
   "metadata": {},
   "outputs": [
    {
     "data": {
      "text/html": [
       "<div>\n",
       "<style scoped>\n",
       "    .dataframe tbody tr th:only-of-type {\n",
       "        vertical-align: middle;\n",
       "    }\n",
       "\n",
       "    .dataframe tbody tr th {\n",
       "        vertical-align: top;\n",
       "    }\n",
       "\n",
       "    .dataframe thead th {\n",
       "        text-align: right;\n",
       "    }\n",
       "</style>\n",
       "<table border=\"1\" class=\"dataframe\">\n",
       "  <thead>\n",
       "    <tr style=\"text-align: right;\">\n",
       "      <th></th>\n",
       "      <th>Time</th>\n",
       "      <th>-x</th>\n",
       "      <th>+x</th>\n",
       "      <th>2x</th>\n",
       "      <th>-y</th>\n",
       "      <th>+y</th>\n",
       "      <th>2y</th>\n",
       "    </tr>\n",
       "  </thead>\n",
       "  <tbody>\n",
       "    <tr>\n",
       "      <th>0</th>\n",
       "      <td>2022/11/01 15:57:55</td>\n",
       "      <td>-27.188208</td>\n",
       "      <td>27.697153</td>\n",
       "      <td>54.885361</td>\n",
       "      <td>-18.582645</td>\n",
       "      <td>18.967525</td>\n",
       "      <td>37.550170</td>\n",
       "    </tr>\n",
       "    <tr>\n",
       "      <th>1</th>\n",
       "      <td>2022/11/01 15:57:56</td>\n",
       "      <td>-27.188208</td>\n",
       "      <td>27.697153</td>\n",
       "      <td>54.885361</td>\n",
       "      <td>-18.582645</td>\n",
       "      <td>18.967525</td>\n",
       "      <td>37.550170</td>\n",
       "    </tr>\n",
       "    <tr>\n",
       "      <th>2</th>\n",
       "      <td>2022/11/01 15:57:57</td>\n",
       "      <td>-27.188208</td>\n",
       "      <td>27.697153</td>\n",
       "      <td>54.885361</td>\n",
       "      <td>-18.582645</td>\n",
       "      <td>18.967525</td>\n",
       "      <td>37.550170</td>\n",
       "    </tr>\n",
       "    <tr>\n",
       "      <th>3</th>\n",
       "      <td>2022/11/01 15:57:58</td>\n",
       "      <td>-27.188208</td>\n",
       "      <td>27.697153</td>\n",
       "      <td>54.885361</td>\n",
       "      <td>-18.631856</td>\n",
       "      <td>19.016512</td>\n",
       "      <td>37.648367</td>\n",
       "    </tr>\n",
       "    <tr>\n",
       "      <th>4</th>\n",
       "      <td>2022/11/01 15:57:59</td>\n",
       "      <td>-27.188208</td>\n",
       "      <td>27.697153</td>\n",
       "      <td>54.885361</td>\n",
       "      <td>-18.631856</td>\n",
       "      <td>19.016512</td>\n",
       "      <td>37.648367</td>\n",
       "    </tr>\n",
       "  </tbody>\n",
       "</table>\n",
       "</div>"
      ],
      "text/plain": [
       "                  Time         -x         +x         2x         -y         +y  \\\n",
       "0  2022/11/01 15:57:55 -27.188208  27.697153  54.885361 -18.582645  18.967525   \n",
       "1  2022/11/01 15:57:56 -27.188208  27.697153  54.885361 -18.582645  18.967525   \n",
       "2  2022/11/01 15:57:57 -27.188208  27.697153  54.885361 -18.582645  18.967525   \n",
       "3  2022/11/01 15:57:58 -27.188208  27.697153  54.885361 -18.631856  19.016512   \n",
       "4  2022/11/01 15:57:59 -27.188208  27.697153  54.885361 -18.631856  19.016512   \n",
       "\n",
       "          2y  \n",
       "0  37.550170  \n",
       "1  37.550170  \n",
       "2  37.550170  \n",
       "3  37.648367  \n",
       "4  37.648367  "
      ]
     },
     "execution_count": 3,
     "metadata": {},
     "output_type": "execute_result"
    }
   ],
   "source": [
    "# file\n",
    "file_drive = \"./data/FOV/2022-11-01-17-34-10_FOV_3p15.csv\"\n",
    "df2 = pd.read_csv(file_drive, index_col=0)\n",
    "df2.head()"
   ]
  },
  {
   "cell_type": "code",
   "execution_count": 4,
   "id": "5fafe729",
   "metadata": {},
   "outputs": [
    {
     "data": {
      "text/html": [
       "<div>\n",
       "<style scoped>\n",
       "    .dataframe tbody tr th:only-of-type {\n",
       "        vertical-align: middle;\n",
       "    }\n",
       "\n",
       "    .dataframe tbody tr th {\n",
       "        vertical-align: top;\n",
       "    }\n",
       "\n",
       "    .dataframe thead th {\n",
       "        text-align: right;\n",
       "    }\n",
       "</style>\n",
       "<table border=\"1\" class=\"dataframe\">\n",
       "  <thead>\n",
       "    <tr style=\"text-align: right;\">\n",
       "      <th></th>\n",
       "      <th>Time</th>\n",
       "      <th>set_temperature</th>\n",
       "      <th>temperature</th>\n",
       "      <th>param1</th>\n",
       "      <th>param2</th>\n",
       "      <th>param3</th>\n",
       "      <th>param4</th>\n",
       "    </tr>\n",
       "  </thead>\n",
       "  <tbody>\n",
       "    <tr>\n",
       "      <th>2641</th>\n",
       "      <td>2022/11/01 16:43:33</td>\n",
       "      <td>25.0</td>\n",
       "      <td>24.911020</td>\n",
       "      <td>22.0</td>\n",
       "      <td>4.449000</td>\n",
       "      <td>-1.331064</td>\n",
       "      <td>19.826138</td>\n",
       "    </tr>\n",
       "    <tr>\n",
       "      <th>2642</th>\n",
       "      <td>2022/11/01 16:43:34</td>\n",
       "      <td>25.0</td>\n",
       "      <td>24.999950</td>\n",
       "      <td>-1.0</td>\n",
       "      <td>0.002513</td>\n",
       "      <td>-1.334259</td>\n",
       "      <td>0.011092</td>\n",
       "    </tr>\n",
       "    <tr>\n",
       "      <th>2643</th>\n",
       "      <td>2022/11/01 16:43:35</td>\n",
       "      <td>25.0</td>\n",
       "      <td>25.088927</td>\n",
       "      <td>-24.0</td>\n",
       "      <td>-4.446339</td>\n",
       "      <td>-1.338736</td>\n",
       "      <td>-19.192146</td>\n",
       "    </tr>\n",
       "    <tr>\n",
       "      <th>2644</th>\n",
       "      <td>2022/11/01 16:43:36</td>\n",
       "      <td>25.0</td>\n",
       "      <td>24.999950</td>\n",
       "      <td>-1.0</td>\n",
       "      <td>0.002513</td>\n",
       "      <td>-1.343536</td>\n",
       "      <td>0.011007</td>\n",
       "    </tr>\n",
       "    <tr>\n",
       "      <th>2645</th>\n",
       "      <td>2022/11/01 16:43:37</td>\n",
       "      <td>25.0</td>\n",
       "      <td>24.999950</td>\n",
       "      <td>-1.0</td>\n",
       "      <td>0.002513</td>\n",
       "      <td>-1.346327</td>\n",
       "      <td>0.011185</td>\n",
       "    </tr>\n",
       "  </tbody>\n",
       "</table>\n",
       "</div>"
      ],
      "text/plain": [
       "                     Time  set_temperature  temperature  param1    param2  \\\n",
       "2641  2022/11/01 16:43:33             25.0    24.911020    22.0  4.449000   \n",
       "2642  2022/11/01 16:43:34             25.0    24.999950    -1.0  0.002513   \n",
       "2643  2022/11/01 16:43:35             25.0    25.088927   -24.0 -4.446339   \n",
       "2644  2022/11/01 16:43:36             25.0    24.999950    -1.0  0.002513   \n",
       "2645  2022/11/01 16:43:37             25.0    24.999950    -1.0  0.002513   \n",
       "\n",
       "        param3     param4  \n",
       "2641 -1.331064  19.826138  \n",
       "2642 -1.334259   0.011092  \n",
       "2643 -1.338736 -19.192146  \n",
       "2644 -1.343536   0.011007  \n",
       "2645 -1.346327   0.011185  "
      ]
     },
     "execution_count": 4,
     "metadata": {},
     "output_type": "execute_result"
    }
   ],
   "source": [
    "#file\n",
    "file_drive = \"./data/temp/2022-11-01-16-43-37_temp_3p15.csv\"\n",
    "df3 = pd.read_csv(file_drive, index_col=0)\n",
    "df3.tail()"
   ]
  },
  {
   "cell_type": "code",
   "execution_count": 5,
   "id": "a92e4555",
   "metadata": {},
   "outputs": [],
   "source": [
    "time1 = pd.to_datetime(df1[\"Time\"]) \n",
    "time1 = time1.dt.round(\"s\")\n",
    "\n",
    "time2 = pd.to_datetime(df2[\"Time\"]) \n",
    "time2 = time2.dt.round(\"s\")\n",
    "\n",
    "time3 = pd.to_datetime(df3[\"Time\"]) \n",
    "time3 = time3.dt.round(\"s\")"
   ]
  },
  {
   "cell_type": "code",
   "execution_count": 6,
   "id": "230ffc93",
   "metadata": {},
   "outputs": [
    {
     "data": {
      "text/plain": [
       "<matplotlib.collections.PathCollection at 0x119f74e3088>"
      ]
     },
     "execution_count": 6,
     "metadata": {},
     "output_type": "execute_result"
    },
    {
     "data": {
      "image/png": "[encoded data removed]",
      "text/plain": [
       "<Figure size 432x288 with 2 Axes>"
      ]
     },
     "metadata": {
      "needs_background": "light"
     },
     "output_type": "display_data"
    }
   ],
   "source": [
    "fig, ax1 = plt.subplots()\n",
    "ax2 = ax1.twinx() # 二つ目の軸を定義\n",
    "\n",
    "ax1.set_xlabel(\"Time\")\n",
    "ax1.set_ylabel(\"Angle (deg)\")\n",
    "ax2.set_ylabel(\"Temperature (deg)\")\n",
    "plt.title(sample_name)\n",
    "\n",
    "sxmin='2022-11-01 15:57:37'\n",
    "sxmax='2022-11-01  16:43:37'\n",
    "xmin = datetime.datetime.strptime(sxmin, '%Y-%m-%d %H:%M:%S')\n",
    "xmax = datetime.datetime.strptime(sxmax, '%Y-%m-%d %H:%M:%S')\n",
    "plt.xlim([xmin,xmax])\n",
    "ax1.set_ylim(0,60)\n",
    "ax2.set_ylim(10,40)\n",
    "\n",
    "ax1.scatter(time2, df2[\"2x\"], color='b')\n",
    "ax2.scatter(time3, df3[\"temperature\"], color='g')"
   ]
  },
  {
   "cell_type": "code",
   "execution_count": 7,
   "id": "10ee5239",
   "metadata": {},
   "outputs": [
    {
     "data": {
      "text/plain": [
       "<matplotlib.collections.PathCollection at 0x119f9685588>"
      ]
     },
     "execution_count": 7,
     "metadata": {},
     "output_type": "execute_result"
    },
    {
     "data": {
      "image/png": "[encoded data removed]",
      "text/plain": [
       "<Figure size 432x288 with 1 Axes>"
      ]
     },
     "metadata": {
      "needs_background": "light"
     },
     "output_type": "display_data"
    }
   ],
   "source": [
    "plt.xlabel(\"Time\")\n",
    "plt.ylabel(\"delay (clocks)\")\n",
    "plt.title(sample_name)\n",
    "\n",
    "sxmin='2022-11-01 15:57:37'\n",
    "sxmax='2022-11-01  16:43:37'\n",
    "xmin = datetime.datetime.strptime(sxmin, '%Y-%m-%d %H:%M:%S')\n",
    "xmax = datetime.datetime.strptime(sxmax, '%Y-%m-%d %H:%M:%S')\n",
    "plt.xlim([xmin,xmax])\n",
    "#plt.ylim(0,70)\n",
    "plt.scatter(time1, df1[\"delay_slow\"])\n",
    "plt.scatter(time1, df1[\"delay_fast\"], color='r')"
   ]
  },
  {
   "cell_type": "code",
   "execution_count": 8,
   "id": "a8f4b4b0",
   "metadata": {},
   "outputs": [
    {
     "data": {
      "text/plain": [
       "<matplotlib.collections.PathCollection at 0x119fa70fe08>"
      ]
     },
     "execution_count": 8,
     "metadata": {},
     "output_type": "execute_result"
    },
    {
     "data": {
      "image/png": "[encoded data removed]",
      "text/plain": [
       "<Figure size 432x288 with 2 Axes>"
      ]
     },
     "metadata": {
      "needs_background": "light"
     },
     "output_type": "display_data"
    }
   ],
   "source": [
    "fig, ax1 = plt.subplots()\n",
    "ax2 = ax1.twinx() # 二つ目の軸を定義\n",
    "\n",
    "ax1.set_xlabel(\"Time\")\n",
    "ax1.set_ylabel(\"Angle (deg)\")\n",
    "ax2.set_ylabel(\"Phase (clocks)\")\n",
    "plt.title(sample_name)\n",
    "\n",
    "sxmin='2022-11-01 15:57:37'\n",
    "sxmax='2022-11-01  16:43:37'\n",
    "xmin = datetime.datetime.strptime(sxmin, '%Y-%m-%d %H:%M:%S')\n",
    "xmax = datetime.datetime.strptime(sxmax, '%Y-%m-%d %H:%M:%S')\n",
    "plt.xlim([xmin,xmax])\n",
    "ax1.set_ylim(0,60)\n",
    "#ax2.set_ylim(10,40)\n",
    "\n",
    "ax1.scatter(time2, df2[\"2x\"], color='b')\n",
    "ax2.scatter(time1, df1[\"delay_fast\"], color='g')"
   ]
  },
  {
   "cell_type": "code",
   "execution_count": null,
   "id": "6c2fe15a",
   "metadata": {},
   "outputs": [],
   "source": []
  }
 ],
 "metadata": {
  "kernelspec": {
   "display_name": "Python 3 (ipykernel)",
   "language": "python",
   "name": "python3"
  },
  "language_info": {
   "codemirror_mode": {
    "name": "ipython",
    "version": 3
   },
   "file_extension": ".py",
   "mimetype": "text/x-python",
   "name": "python",
   "nbconvert_exporter": "python",
   "pygments_lexer": "ipython3",
   "version": "3.7.9"
  }
 },
 "nbformat": 4,
 "nbformat_minor": 5
}
