{
 "cells": [
  {
   "cell_type": "code",
   "execution_count": 1,
   "id": "8806a3bf",
   "metadata": {},
   "outputs": [],
   "source": [
    "import matplotlib.pyplot as plt\n",
    "import numpy as np\n",
    "import pandas as pd\n",
    "import time"
   ]
  },
  {
   "cell_type": "code",
   "execution_count": 2,
   "id": "0e6da2b9",
   "metadata": {},
   "outputs": [
    {
     "name": "stdout",
     "output_type": "stream",
     "text": [
      "1-01-08-26-53_3v58\n"
     ]
    },
    {
     "data": {
      "text/html": [
       "<div>\n",
       "<style scoped>\n",
       "    .dataframe tbody tr th:only-of-type {\n",
       "        vertical-align: middle;\n",
       "    }\n",
       "\n",
       "    .dataframe tbody tr th {\n",
       "        vertical-align: top;\n",
       "    }\n",
       "\n",
       "    .dataframe thead th {\n",
       "        text-align: right;\n",
       "    }\n",
       "</style>\n",
       "<table border=\"1\" class=\"dataframe\">\n",
       "  <thead>\n",
       "    <tr style=\"text-align: right;\">\n",
       "      <th></th>\n",
       "      <th>Time</th>\n",
       "      <th>humidity</th>\n",
       "      <th>temperature</th>\n",
       "      <th>set_temperature</th>\n",
       "      <th>vpp_sum1</th>\n",
       "      <th>vpp_sum2</th>\n",
       "      <th>delay_slow</th>\n",
       "      <th>delay_fast</th>\n",
       "      <th>Ch1_word</th>\n",
       "      <th>Ch2_word</th>\n",
       "      <th>Ch1_Amp</th>\n",
       "      <th>Ch2_Amp</th>\n",
       "    </tr>\n",
       "  </thead>\n",
       "  <tbody>\n",
       "    <tr>\n",
       "      <th>0</th>\n",
       "      <td>2022/11/01 08:26:44</td>\n",
       "      <td>50.0</td>\n",
       "      <td>25.1</td>\n",
       "      <td>25.0</td>\n",
       "      <td>10000.0</td>\n",
       "      <td>5000.0</td>\n",
       "      <td>3000.0</td>\n",
       "      <td>2000.0</td>\n",
       "      <td>0.0</td>\n",
       "      <td>0.0</td>\n",
       "      <td>0.0</td>\n",
       "      <td>0.0</td>\n",
       "    </tr>\n",
       "    <tr>\n",
       "      <th>1</th>\n",
       "      <td>2022/11/01 08:26:45</td>\n",
       "      <td>50.0</td>\n",
       "      <td>25.1</td>\n",
       "      <td>25.0</td>\n",
       "      <td>10000.0</td>\n",
       "      <td>5000.0</td>\n",
       "      <td>3000.0</td>\n",
       "      <td>2000.0</td>\n",
       "      <td>0.0</td>\n",
       "      <td>0.0</td>\n",
       "      <td>0.0</td>\n",
       "      <td>0.0</td>\n",
       "    </tr>\n",
       "    <tr>\n",
       "      <th>2</th>\n",
       "      <td>2022/11/01 08:26:46</td>\n",
       "      <td>50.0</td>\n",
       "      <td>25.1</td>\n",
       "      <td>25.0</td>\n",
       "      <td>10000.0</td>\n",
       "      <td>5000.0</td>\n",
       "      <td>3000.0</td>\n",
       "      <td>2000.0</td>\n",
       "      <td>0.0</td>\n",
       "      <td>0.0</td>\n",
       "      <td>0.0</td>\n",
       "      <td>0.0</td>\n",
       "    </tr>\n",
       "    <tr>\n",
       "      <th>3</th>\n",
       "      <td>2022/11/01 08:26:47</td>\n",
       "      <td>50.0</td>\n",
       "      <td>25.1</td>\n",
       "      <td>25.0</td>\n",
       "      <td>10000.0</td>\n",
       "      <td>5000.0</td>\n",
       "      <td>3000.0</td>\n",
       "      <td>2000.0</td>\n",
       "      <td>0.0</td>\n",
       "      <td>0.0</td>\n",
       "      <td>0.0</td>\n",
       "      <td>0.0</td>\n",
       "    </tr>\n",
       "    <tr>\n",
       "      <th>4</th>\n",
       "      <td>2022/11/01 08:26:48</td>\n",
       "      <td>50.0</td>\n",
       "      <td>25.1</td>\n",
       "      <td>25.0</td>\n",
       "      <td>10000.0</td>\n",
       "      <td>5000.0</td>\n",
       "      <td>3000.0</td>\n",
       "      <td>2000.0</td>\n",
       "      <td>0.0</td>\n",
       "      <td>0.0</td>\n",
       "      <td>0.0</td>\n",
       "      <td>0.0</td>\n",
       "    </tr>\n",
       "  </tbody>\n",
       "</table>\n",
       "</div>"
      ],
      "text/plain": [
       "                  Time  humidity  temperature  set_temperature  vpp_sum1  \\\n",
       "0  2022/11/01 08:26:44      50.0         25.1             25.0   10000.0   \n",
       "1  2022/11/01 08:26:45      50.0         25.1             25.0   10000.0   \n",
       "2  2022/11/01 08:26:46      50.0         25.1             25.0   10000.0   \n",
       "3  2022/11/01 08:26:47      50.0         25.1             25.0   10000.0   \n",
       "4  2022/11/01 08:26:48      50.0         25.1             25.0   10000.0   \n",
       "\n",
       "   vpp_sum2  delay_slow  delay_fast  Ch1_word  Ch2_word  Ch1_Amp  Ch2_Amp  \n",
       "0    5000.0      3000.0      2000.0       0.0       0.0      0.0      0.0  \n",
       "1    5000.0      3000.0      2000.0       0.0       0.0      0.0      0.0  \n",
       "2    5000.0      3000.0      2000.0       0.0       0.0      0.0      0.0  \n",
       "3    5000.0      3000.0      2000.0       0.0       0.0      0.0      0.0  \n",
       "4    5000.0      3000.0      2000.0       0.0       0.0      0.0      0.0  "
      ]
     },
     "execution_count": 2,
     "metadata": {},
     "output_type": "execute_result"
    }
   ],
   "source": [
    "# file\n",
    "file = \"2022-11-01-08-26-53_3v58.csv\"\n",
    "df = pd.read_csv(file, index_col=0)\n",
    "sample_name = file[-22:-4]\n",
    "print(sample_name)\n",
    "df.head()"
   ]
  },
  {
   "cell_type": "code",
   "execution_count": 3,
   "id": "528315f6",
   "metadata": {},
   "outputs": [],
   "source": [
    "time = pd.to_datetime(df[\"Time\"]) "
   ]
  },
  {
   "cell_type": "code",
   "execution_count": 4,
   "id": "b3e0674d",
   "metadata": {},
   "outputs": [
    {
     "data": {
      "text/plain": [
       "0   2022-11-01 08:26:44\n",
       "1   2022-11-01 08:26:45\n",
       "2   2022-11-01 08:26:46\n",
       "3   2022-11-01 08:26:47\n",
       "4   2022-11-01 08:26:48\n",
       "5   2022-11-01 08:26:49\n",
       "6   2022-11-01 08:26:50\n",
       "7   2022-11-01 08:26:51\n",
       "8   2022-11-01 08:26:52\n",
       "Name: Time, dtype: datetime64[ns]"
      ]
     },
     "execution_count": 4,
     "metadata": {},
     "output_type": "execute_result"
    }
   ],
   "source": [
    "time"
   ]
  },
  {
   "cell_type": "code",
   "execution_count": 5,
   "id": "128004a2",
   "metadata": {},
   "outputs": [
    {
     "data": {
      "text/plain": [
       "Timedelta('0 days 00:00:05')"
      ]
     },
     "execution_count": 5,
     "metadata": {},
     "output_type": "execute_result"
    }
   ],
   "source": [
    "time[5] - time[0]"
   ]
  },
  {
   "cell_type": "code",
   "execution_count": 6,
   "id": "e9f67858",
   "metadata": {},
   "outputs": [],
   "source": [
    "df = time[5] - time[0] "
   ]
  },
  {
   "cell_type": "code",
   "execution_count": 7,
   "id": "09900e86",
   "metadata": {},
   "outputs": [
    {
     "data": {
      "text/plain": [
       "5.0"
      ]
     },
     "execution_count": 7,
     "metadata": {},
     "output_type": "execute_result"
    }
   ],
   "source": [
    "df.total_seconds()"
   ]
  },
  {
   "cell_type": "code",
   "execution_count": null,
   "id": "a8877d89",
   "metadata": {},
   "outputs": [],
   "source": []
  }
 ],
 "metadata": {
  "kernelspec": {
   "display_name": "Python 3",
   "language": "python",
   "name": "python3"
  },
  "language_info": {
   "codemirror_mode": {
    "name": "ipython",
    "version": 3
   },
   "file_extension": ".py",
   "mimetype": "text/x-python",
   "name": "python",
   "nbconvert_exporter": "python",
   "pygments_lexer": "ipython3",
   "version": "3.7.9"
  }
 },
 "nbformat": 4,
 "nbformat_minor": 5
}
