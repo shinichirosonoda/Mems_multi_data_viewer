{
 "cells": [
  {
   "cell_type": "code",
   "execution_count": 1,
   "id": "13d94be7",
   "metadata": {},
   "outputs": [],
   "source": [
    "# Deriving Angle Value by using High-precision amplitude evaluation device\n",
    "\n",
    "import cv2\n",
    "import matplotlib.pyplot as plt\n",
    "import numpy as np\n",
    "import pandas as pd"
   ]
  },
  {
   "cell_type": "code",
   "execution_count": 2,
   "id": "5fafe729",
   "metadata": {},
   "outputs": [
    {
     "name": "stdout",
     "output_type": "stream",
     "text": [
      "img_5_3p08_27.5deg\n"
     ]
    },
    {
     "data": {
      "text/html": [
       "<div>\n",
       "<style scoped>\n",
       "    .dataframe tbody tr th:only-of-type {\n",
       "        vertical-align: middle;\n",
       "    }\n",
       "\n",
       "    .dataframe tbody tr th {\n",
       "        vertical-align: top;\n",
       "    }\n",
       "\n",
       "    .dataframe thead th {\n",
       "        text-align: right;\n",
       "    }\n",
       "</style>\n",
       "<table border=\"1\" class=\"dataframe\">\n",
       "  <thead>\n",
       "    <tr style=\"text-align: right;\">\n",
       "      <th></th>\n",
       "      <th>Time</th>\n",
       "      <th>-x</th>\n",
       "      <th>+x</th>\n",
       "      <th>2x</th>\n",
       "      <th>-y</th>\n",
       "      <th>+y</th>\n",
       "      <th>2y</th>\n",
       "    </tr>\n",
       "  </thead>\n",
       "  <tbody>\n",
       "    <tr>\n",
       "      <th>0</th>\n",
       "      <td>1.105217</td>\n",
       "      <td>-27.101923</td>\n",
       "      <td>27.697153</td>\n",
       "      <td>54.799076</td>\n",
       "      <td>-18.779317</td>\n",
       "      <td>18.771292</td>\n",
       "      <td>37.550609</td>\n",
       "    </tr>\n",
       "    <tr>\n",
       "      <th>1</th>\n",
       "      <td>1.214391</td>\n",
       "      <td>-27.101923</td>\n",
       "      <td>27.697153</td>\n",
       "      <td>54.799076</td>\n",
       "      <td>-18.779317</td>\n",
       "      <td>18.771292</td>\n",
       "      <td>37.550609</td>\n",
       "    </tr>\n",
       "    <tr>\n",
       "      <th>2</th>\n",
       "      <td>1.326012</td>\n",
       "      <td>-27.101923</td>\n",
       "      <td>27.697153</td>\n",
       "      <td>54.799076</td>\n",
       "      <td>-18.779317</td>\n",
       "      <td>18.722162</td>\n",
       "      <td>37.501479</td>\n",
       "    </tr>\n",
       "    <tr>\n",
       "      <th>3</th>\n",
       "      <td>1.437664</td>\n",
       "      <td>-27.101923</td>\n",
       "      <td>27.697153</td>\n",
       "      <td>54.799076</td>\n",
       "      <td>-18.779317</td>\n",
       "      <td>18.771292</td>\n",
       "      <td>37.550609</td>\n",
       "    </tr>\n",
       "    <tr>\n",
       "      <th>4</th>\n",
       "      <td>1.558973</td>\n",
       "      <td>-27.101923</td>\n",
       "      <td>27.741058</td>\n",
       "      <td>54.842981</td>\n",
       "      <td>-18.779317</td>\n",
       "      <td>18.722162</td>\n",
       "      <td>37.501479</td>\n",
       "    </tr>\n",
       "  </tbody>\n",
       "</table>\n",
       "</div>"
      ],
      "text/plain": [
       "       Time         -x         +x         2x         -y         +y         2y\n",
       "0  1.105217 -27.101923  27.697153  54.799076 -18.779317  18.771292  37.550609\n",
       "1  1.214391 -27.101923  27.697153  54.799076 -18.779317  18.771292  37.550609\n",
       "2  1.326012 -27.101923  27.697153  54.799076 -18.779317  18.722162  37.501479\n",
       "3  1.437664 -27.101923  27.697153  54.799076 -18.779317  18.771292  37.550609\n",
       "4  1.558973 -27.101923  27.741058  54.842981 -18.779317  18.722162  37.501479"
      ]
     },
     "execution_count": 2,
     "metadata": {},
     "output_type": "execute_result"
    }
   ],
   "source": [
    "# file\n",
    "file = \"../data/3p08/Lcam/img_5_3p08_27.5deg.csv\"\n",
    "df = pd.read_csv(file, index_col=0)\n",
    "sample_name = file[-22:-4]\n",
    "print(sample_name)\n",
    "df.head()"
   ]
  },
  {
   "cell_type": "code",
   "execution_count": 3,
   "id": "0fdd3447",
   "metadata": {},
   "outputs": [
    {
     "data": {
      "text/plain": [
       "<matplotlib.collections.PathCollection at 0x7f0f2bafcc70>"
      ]
     },
     "execution_count": 3,
     "metadata": {},
     "output_type": "execute_result"
    },
    {
     "data": {
      "image/png": "[encoded data removed]",
      "text/plain": [
       "<Figure size 432x288 with 1 Axes>"
      ]
     },
     "metadata": {
      "needs_background": "light"
     },
     "output_type": "display_data"
    }
   ],
   "source": [
    "plt.xlabel(\"Time (min)\")\n",
    "plt.ylabel(\"Fast Angle (deg)\")\n",
    "plt.title(sample_name)\n",
    "plt.ylim(54,56)\n",
    "plt.scatter(df[\"Time\"]/60, df[\"2x\"])\n",
    "#plt.savefig(file[:-4] + \"_fast.png\")"
   ]
  },
  {
   "cell_type": "code",
   "execution_count": 4,
   "id": "1ea1c768",
   "metadata": {},
   "outputs": [
    {
     "data": {
      "text/plain": [
       "<matplotlib.collections.PathCollection at 0x7f0f299944c0>"
      ]
     },
     "execution_count": 4,
     "metadata": {},
     "output_type": "execute_result"
    },
    {
     "data": {
      "image/png": "[encoded data removed]",
      "text/plain": [
       "<Figure size 432x288 with 1 Axes>"
      ]
     },
     "metadata": {
      "needs_background": "light"
     },
     "output_type": "display_data"
    }
   ],
   "source": [
    "plt.xlabel(\"Time (min)\")\n",
    "plt.ylabel(\"Slow Angle (deg)\")\n",
    "plt.title(sample_name)\n",
    "plt.ylim(36,38)\n",
    "plt.scatter(df[\"Time\"]/60, df[\"2y\"], color='red')\n",
    "#plt.savefig(file[:-4] + \"_slow.png\")"
   ]
  },
  {
   "cell_type": "code",
   "execution_count": 5,
   "id": "a92e4555",
   "metadata": {},
   "outputs": [
    {
     "data": {
      "text/plain": [
       "<matplotlib.collections.PathCollection at 0x7f0f2990c190>"
      ]
     },
     "execution_count": 5,
     "metadata": {},
     "output_type": "execute_result"
    },
    {
     "data": {
      "image/png": "[encoded data removed]",
      "text/plain": [
       "<Figure size 432x288 with 1 Axes>"
      ]
     },
     "metadata": {
      "needs_background": "light"
     },
     "output_type": "display_data"
    }
   ],
   "source": [
    "plt.xlabel(\"Time (min)\")\n",
    "plt.ylabel(\"Angle (deg)\")\n",
    "plt.title(sample_name)\n",
    "plt.ylim(0,70)\n",
    "plt.scatter(df[\"Time\"]/60, df[\"2x\"])\n",
    "plt.scatter(df[\"Time\"]/60, df[\"2y\"], color='r')\n",
    "#plt.savefig(file[:-4] + \"_all.png\")"
   ]
  },
  {
   "cell_type": "code",
   "execution_count": null,
   "id": "230ffc93",
   "metadata": {},
   "outputs": [],
   "source": []
  }
 ],
 "metadata": {
  "kernelspec": {
   "display_name": "Python 3 (ipykernel)",
   "language": "python",
   "name": "python3"
  },
  "language_info": {
   "codemirror_mode": {
    "name": "ipython",
    "version": 3
   },
   "file_extension": ".py",
   "mimetype": "text/x-python",
   "name": "python",
   "nbconvert_exporter": "python",
   "pygments_lexer": "ipython3",
   "version": "3.8.10"
  }
 },
 "nbformat": 4,
 "nbformat_minor": 5
}
